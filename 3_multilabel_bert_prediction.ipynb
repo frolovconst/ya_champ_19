{
 "cells": [
  {
   "cell_type": "code",
   "execution_count": 1,
   "metadata": {},
   "outputs": [],
   "source": [
    "import pandas as pd\n",
    "import numpy as np\n",
    "from sklearn.preprocessing import MultiLabelBinarizer\n",
    "from sklearn.feature_extraction import DictVectorizer\n",
    "from sklearn.model_selection import train_test_split\n",
    "from khajiit_common.intermediate_results_caching import Vault\n",
    "from tqdm.auto import tqdm"
   ]
  },
  {
   "cell_type": "code",
   "execution_count": 2,
   "metadata": {},
   "outputs": [
    {
     "name": "stderr",
     "output_type": "stream",
     "text": [
      "I1027 07:49:59.804848 139849168561984 modeling_bert.py:139] Better speed can be achieved with apex installed from https://www.github.com/nvidia/apex .\n",
      "I1027 07:49:59.811052 139849168561984 modeling_xlnet.py:194] Better speed can be achieved with apex installed from https://www.github.com/nvidia/apex .\n"
     ]
    }
   ],
   "source": [
    "import sys\n",
    "import re\n",
    "import torch\n",
    "from torch import nn as nn\n",
    "import random\n",
    "import pytorch_transformers\n",
    "import logging\n",
    "import os\n",
    "# os.environ[\"CUDA_VISIBLE_DEVICES\"] = \"\"\n",
    "os.environ[\"CUDA_VISIBLE_DEVICES\"] = \"1, 2\"\n",
    "from path import Path\n",
    "from pytorch_transformers import BertTokenizer, BertPreTrainedModel, BertModel\n",
    "from pytorch_transformers.optimization import AdamW, WarmupLinearSchedule\n",
    "from sklearn_pytorch.nlp import BertPreprocessor\n",
    "from torch.utils.data import TensorDataset, RandomSampler, SequentialSampler, DataLoader\n",
    "from torch.nn import BCELoss\n",
    "from ignite.engine import Engine, Events\n",
    "from ignite.metrics import Accuracy, Loss, RunningAverage, TopKCategoricalAccuracy\n",
    "from ignite.contrib.handlers import ProgressBar, TensorboardLogger\n",
    "from ignite.contrib.handlers.tensorboard_logger import OutputHandler, OptimizerParamsHandler\n",
    "from ignite.handlers import ModelCheckpoint, EarlyStopping"
   ]
  },
  {
   "cell_type": "code",
   "execution_count": 3,
   "metadata": {},
   "outputs": [],
   "source": [
    "HEADER_TEST = ['id', 'title', 'text']\n",
    "HEADER_TRAIN = ['id', 'title', 'text', 'tags']\n",
    "RANDOM_SEED = 442\n",
    "TEST_SIZE = .1\n",
    "EXPERIMENT_NAME = 'ya_champ_multiclass_full_data'"
   ]
  },
  {
   "cell_type": "code",
   "execution_count": 4,
   "metadata": {},
   "outputs": [],
   "source": [
    "def set_random_seed(seed, cudnn_deterministic=False):\n",
    "    random.seed(seed)\n",
    "    np.random.seed(seed)\n",
    "\n",
    "    torch.manual_seed(seed)\n",
    "\n",
    "    torch.cuda.manual_seed(seed)\n",
    "    if torch.cuda.device_count() > 0:\n",
    "        torch.cuda.manual_seed_all(seed)\n",
    "\n",
    "    if cudnn_deterministic:\n",
    "        torch.backends.cudnn.deterministic = True\n",
    "    else:\n",
    "        torch.backends.cudnn.deterministic = False"
   ]
  },
  {
   "cell_type": "code",
   "execution_count": 5,
   "metadata": {},
   "outputs": [],
   "source": [
    "def get_file_iterator(file):\n",
    "    for line in file:\n",
    "        yield line #.readline()"
   ]
  },
  {
   "cell_type": "code",
   "execution_count": 6,
   "metadata": {},
   "outputs": [],
   "source": [
    "set_random_seed(RANDOM_SEED)"
   ]
  },
  {
   "cell_type": "code",
   "execution_count": 9,
   "metadata": {},
   "outputs": [],
   "source": [
    "def get_data(path, col_no=4, header=HEADER_TRAIN):\n",
    "    count = 0\n",
    "    junk_rows = {k: [] for k in np.arange(col_no)}\n",
    "    junk_row_numbers = {k: [] for k in np.arange(col_no)}\n",
    "    train_data_clean = {k: [] for k in header}\n",
    "    with open(path, encoding='utf-8') as src_file:\n",
    "        f_iter = get_file_iterator(src_file)\n",
    "        for i, line in enumerate(f_iter):\n",
    "            count += 1\n",
    "            row = line.replace('\\n', '').split('\\t')\n",
    "            if len(row) >= col_no - 1:\n",
    "                if len(row) == col_no:\n",
    "                    for j, k in enumerate(header):\n",
    "                        train_data_clean[k].append(row[j].strip())\n",
    "                elif col_no == 3:\n",
    "                    train_data_clean[header[0]].append(row[0])\n",
    "                    train_data_clean[header[1]].append(' ')\n",
    "                    train_data_clean[header[2]].append(row[-1].strip())\n",
    "#                     else:\n",
    "#                         train_data_clean[header[2]].append(row[-2])\n",
    "#                         train_data_clean[header[3]].append(row[-1])\n",
    "                    \n",
    "    #         if count > 10:\n",
    "    #             break\n",
    "            else:\n",
    "                junk_rows[len(row)].append(row)\n",
    "                junk_row_numbers[len(row)].append(i)\n",
    "    train_data_clean = pd.DataFrame.from_dict(train_data_clean)\n",
    "    train_data_clean['concatted_text'] = train_data_clean[['title', 'text']].apply(lambda row: '. '.join([row['title'], row['text']]).strip(), axis=1)\n",
    "    train_data_clean.loc[train_data_clean['concatted_text'].str.startswith('. '), 'concatted_text'] = train_data_clean.loc[train_data_clean['concatted_text'].str.startswith('. '), 'concatted_text'].str[2:]\n",
    "    mlb = MultiLabelBinarizer()\n",
    "    if col_no > 3:\n",
    "        train_data_clean['tags'] = train_data_clean['tags'].apply(lambda x: [int(nmbr) for nmbr in x.split(',')])\n",
    "        mlb.fit(train_data_clean['tags'])\n",
    "        train_data_clean['tags_nat'] = train_data_clean['tags']\n",
    "        train_data_clean['tags'] = [tag_list for tag_list in mlb.transform(train_data_clean['tags'])]\n",
    "    return train_data_clean, mlb, junk_rows, junk_row_numbers"
   ]
  },
  {
   "cell_type": "code",
   "execution_count": 8,
   "metadata": {},
   "outputs": [],
   "source": [
    "# train_data_clean, mlb = get_data()"
   ]
  },
  {
   "cell_type": "code",
   "execution_count": 65,
   "metadata": {},
   "outputs": [],
   "source": [
    "test_clean, mlb, junk_rows, junk_row_numbers = get_data('data/test.tsv', 3, HEADER_TEST)"
   ]
  },
  {
   "cell_type": "code",
   "execution_count": 74,
   "metadata": {},
   "outputs": [],
   "source": [
    "train_clean, mlb, junk_rows, junk_row_numbers = get_data('data/train.tsv', 4, HEADER_TRAIN)"
   ]
  },
  {
   "cell_type": "code",
   "execution_count": 13,
   "metadata": {},
   "outputs": [
    {
     "data": {
      "text/plain": [
       "(31513, 5)"
      ]
     },
     "execution_count": 13,
     "metadata": {},
     "output_type": "execute_result"
    }
   ],
   "source": [
    "test_clean.shape"
   ]
  },
  {
   "cell_type": "code",
   "execution_count": 14,
   "metadata": {},
   "outputs": [
    {
     "data": {
      "text/html": [
       "<div>\n",
       "<style scoped>\n",
       "    .dataframe tbody tr th:only-of-type {\n",
       "        vertical-align: middle;\n",
       "    }\n",
       "\n",
       "    .dataframe tbody tr th {\n",
       "        vertical-align: top;\n",
       "    }\n",
       "\n",
       "    .dataframe thead th {\n",
       "        text-align: right;\n",
       "    }\n",
       "</style>\n",
       "<table border=\"1\" class=\"dataframe\">\n",
       "  <thead>\n",
       "    <tr style=\"text-align: right;\">\n",
       "      <th></th>\n",
       "      <th>id</th>\n",
       "      <th>title</th>\n",
       "      <th>text</th>\n",
       "      <th>concatted_text</th>\n",
       "      <th>s</th>\n",
       "    </tr>\n",
       "  </thead>\n",
       "  <tbody>\n",
       "    <tr>\n",
       "      <th>31512</th>\n",
       "      <td>157560</td>\n",
       "      <td>Маленький котенок был замурован в стене</td>\n",
       "      <td>Шесть месяцев назад, в середине лета в Калифор...</td>\n",
       "      <td>Маленький котенок был замурован в стене. Шесть...</td>\n",
       "      <td>маленький котенок был замурован в стене шесть ...</td>\n",
       "    </tr>\n",
       "  </tbody>\n",
       "</table>\n",
       "</div>"
      ],
      "text/plain": [
       "           id                                    title  \\\n",
       "31512  157560  Маленький котенок был замурован в стене   \n",
       "\n",
       "                                                    text  \\\n",
       "31512  Шесть месяцев назад, в середине лета в Калифор...   \n",
       "\n",
       "                                          concatted_text  \\\n",
       "31512  Маленький котенок был замурован в стене. Шесть...   \n",
       "\n",
       "                                                       s  \n",
       "31512  маленький котенок был замурован в стене шесть ...  "
      ]
     },
     "execution_count": 14,
     "metadata": {},
     "output_type": "execute_result"
    }
   ],
   "source": [
    "test_clean.tail(1)"
   ]
  },
  {
   "cell_type": "code",
   "execution_count": 13,
   "metadata": {},
   "outputs": [
    {
     "data": {
      "text/html": [
       "<div>\n",
       "<style scoped>\n",
       "    .dataframe tbody tr th:only-of-type {\n",
       "        vertical-align: middle;\n",
       "    }\n",
       "\n",
       "    .dataframe tbody tr th {\n",
       "        vertical-align: top;\n",
       "    }\n",
       "\n",
       "    .dataframe thead th {\n",
       "        text-align: right;\n",
       "    }\n",
       "</style>\n",
       "<table border=\"1\" class=\"dataframe\">\n",
       "  <thead>\n",
       "    <tr style=\"text-align: right;\">\n",
       "      <th></th>\n",
       "      <th>id</th>\n",
       "      <th>title</th>\n",
       "      <th>text</th>\n",
       "      <th>concatted_text</th>\n",
       "    </tr>\n",
       "  </thead>\n",
       "  <tbody>\n",
       "    <tr>\n",
       "      <th>0</th>\n",
       "      <td>126048</td>\n",
       "      <td>Стадии любовных отношений</td>\n",
       "      <td>Почему некоторые отношения распадаются, а друг...</td>\n",
       "      <td>Стадии любовных отношений. Почему некоторые от...</td>\n",
       "    </tr>\n",
       "  </tbody>\n",
       "</table>\n",
       "</div>"
      ],
      "text/plain": [
       "       id                      title  \\\n",
       "0  126048  Стадии любовных отношений   \n",
       "\n",
       "                                                text  \\\n",
       "0  Почему некоторые отношения распадаются, а друг...   \n",
       "\n",
       "                                      concatted_text  \n",
       "0  Стадии любовных отношений. Почему некоторые от...  "
      ]
     },
     "execution_count": 13,
     "metadata": {},
     "output_type": "execute_result"
    }
   ],
   "source": [
    "test_clean.head(1)"
   ]
  },
  {
   "cell_type": "code",
   "execution_count": 11,
   "metadata": {},
   "outputs": [],
   "source": [
    "def get_train_val_data(data, return_subsample=False):\n",
    "    train, val = train_test_split(data, test_size=TEST_SIZE, random_state=RANDOM_SEED)\n",
    "    if return_subsample:\n",
    "        train = train.sample(100, random_state=RANDOM_SEED).copy()\n",
    "        val = val.sample(100, random_state=RANDOM_SEED).copy()\n",
    "    y_train = np.vstack(train['tags'].values)\n",
    "    y_val = np.vstack(val['tags'].values)\n",
    "    return train, val, y_train, y_val"
   ]
  },
  {
   "cell_type": "code",
   "execution_count": 12,
   "metadata": {},
   "outputs": [],
   "source": [
    "# train, val, y_train, y_val = get_train_val_data(train_data_clean, return_subsample=True)\n",
    "\n",
    "train, val, y_train, y_val = get_train_val_data(train_clean)"
   ]
  },
  {
   "cell_type": "code",
   "execution_count": 13,
   "metadata": {},
   "outputs": [],
   "source": [
    "vault = Vault('processed', 'intermediate_results')"
   ]
  },
  {
   "cell_type": "code",
   "execution_count": 16,
   "metadata": {},
   "outputs": [],
   "source": [
    "# vault.test_clean = test_clean"
   ]
  },
  {
   "cell_type": "code",
   "execution_count": 17,
   "metadata": {},
   "outputs": [],
   "source": [
    "test_clean = vault.test_clean"
   ]
  },
  {
   "cell_type": "code",
   "execution_count": 19,
   "metadata": {},
   "outputs": [],
   "source": [
    "n_gpu = torch.cuda.device_count()\n",
    "device = torch.device('cuda' if torch.cuda.is_available() else 'cpu')"
   ]
  },
  {
   "cell_type": "code",
   "execution_count": 21,
   "metadata": {},
   "outputs": [],
   "source": [
    "pretrained_bert_dir = Path('/work/work/word_embeddings/for_torch/rubert_cased_L-12_H-768_A-12_v1/dump_path/') "
   ]
  },
  {
   "cell_type": "code",
   "execution_count": 22,
   "metadata": {},
   "outputs": [
    {
     "name": "stderr",
     "output_type": "stream",
     "text": [
      "I1027 04:47:19.136106 140718398465856 tokenization_utils.py:301] Model name '/work/work/word_embeddings/for_torch/rubert_cased_L-12_H-768_A-12_v1/dump_path/' not found in model shortcut name list (bert-base-uncased, bert-large-uncased, bert-base-cased, bert-large-cased, bert-base-multilingual-uncased, bert-base-multilingual-cased, bert-base-chinese, bert-base-german-cased, bert-large-uncased-whole-word-masking, bert-large-cased-whole-word-masking, bert-large-uncased-whole-word-masking-finetuned-squad, bert-large-cased-whole-word-masking-finetuned-squad, bert-base-cased-finetuned-mrpc). Assuming '/work/work/word_embeddings/for_torch/rubert_cased_L-12_H-768_A-12_v1/dump_path/' is a path or url to a directory containing tokenizer files.\n",
      "I1027 04:47:19.138355 140718398465856 tokenization_utils.py:330] Didn't find file /work/work/word_embeddings/for_torch/rubert_cased_L-12_H-768_A-12_v1/dump_path/added_tokens.json. We won't load it.\n",
      "I1027 04:47:19.139838 140718398465856 tokenization_utils.py:330] Didn't find file /work/work/word_embeddings/for_torch/rubert_cased_L-12_H-768_A-12_v1/dump_path/special_tokens_map.json. We won't load it.\n",
      "I1027 04:47:19.141064 140718398465856 tokenization_utils.py:330] Didn't find file /work/work/word_embeddings/for_torch/rubert_cased_L-12_H-768_A-12_v1/dump_path/tokenizer_config.json. We won't load it.\n",
      "I1027 04:47:19.142338 140718398465856 tokenization_utils.py:365] loading file /work/work/word_embeddings/for_torch/rubert_cased_L-12_H-768_A-12_v1/dump_path/vocab.txt\n",
      "I1027 04:47:19.143279 140718398465856 tokenization_utils.py:365] loading file None\n",
      "I1027 04:47:19.144299 140718398465856 tokenization_utils.py:365] loading file None\n",
      "I1027 04:47:19.145289 140718398465856 tokenization_utils.py:365] loading file None\n"
     ]
    }
   ],
   "source": [
    "tokenizer = BertTokenizer.from_pretrained(pretrained_bert_dir,\n",
    "                                          do_lower_case=False)"
   ]
  },
  {
   "cell_type": "code",
   "execution_count": 23,
   "metadata": {},
   "outputs": [],
   "source": [
    "bert_preprocessor = BertPreprocessor(tokenizer)"
   ]
  },
  {
   "cell_type": "code",
   "execution_count": 24,
   "metadata": {},
   "outputs": [],
   "source": [
    "# test = test_clean.sample(100).copy()"
   ]
  },
  {
   "cell_type": "code",
   "execution_count": 25,
   "metadata": {},
   "outputs": [],
   "source": [
    "test = test_clean.copy()"
   ]
  },
  {
   "cell_type": "code",
   "execution_count": 21,
   "metadata": {},
   "outputs": [],
   "source": [
    "test_features = bert_preprocessor.transform(test['concatted_text'])"
   ]
  },
  {
   "cell_type": "code",
   "execution_count": 56,
   "metadata": {},
   "outputs": [],
   "source": [
    "val_features = bert_preprocessor.transform(val['concatted_text'])"
   ]
  },
  {
   "cell_type": "code",
   "execution_count": 57,
   "metadata": {},
   "outputs": [],
   "source": [
    "def get_test_tensor_dataset(features, target_column=None):\n",
    "    all_input_ids = torch.tensor(features['input_ids'], dtype=torch.long)\n",
    "    all_token_type_ids = torch.tensor(features['token_type_ids'], dtype=torch.long)\n",
    "    all_attention_mask = torch.tensor(features['attention_mask'], dtype=torch.long)\n",
    "    \n",
    "    return TensorDataset(all_input_ids, all_token_type_ids, all_attention_mask)"
   ]
  },
  {
   "cell_type": "code",
   "execution_count": 23,
   "metadata": {},
   "outputs": [],
   "source": [
    "test_dataset = get_test_tensor_dataset(test_features)"
   ]
  },
  {
   "cell_type": "code",
   "execution_count": 58,
   "metadata": {},
   "outputs": [],
   "source": [
    "val_dataset = get_test_tensor_dataset(val_features)"
   ]
  },
  {
   "cell_type": "code",
   "execution_count": 24,
   "metadata": {},
   "outputs": [],
   "source": [
    "# vault.test_data_sigmoid = test_dataset\n"
   ]
  },
  {
   "cell_type": "code",
   "execution_count": 60,
   "metadata": {},
   "outputs": [],
   "source": [
    "# vault.val_data_sigmoid = val_dataset\n"
   ]
  },
  {
   "cell_type": "code",
   "execution_count": 27,
   "metadata": {},
   "outputs": [],
   "source": [
    "test_dataset = vault.test_data_sigmoid"
   ]
  },
  {
   "cell_type": "code",
   "execution_count": 28,
   "metadata": {},
   "outputs": [],
   "source": [
    "val_dataset = vault.val_data_sigmoid"
   ]
  },
  {
   "cell_type": "code",
   "execution_count": 29,
   "metadata": {},
   "outputs": [],
   "source": [
    "test_batch_size = 256"
   ]
  },
  {
   "cell_type": "code",
   "execution_count": 30,
   "metadata": {},
   "outputs": [],
   "source": [
    "test_dataloader = DataLoader(test_dataset, shuffle=False, batch_size=test_batch_size)"
   ]
  },
  {
   "cell_type": "code",
   "execution_count": 61,
   "metadata": {},
   "outputs": [],
   "source": [
    "val_dataloader = DataLoader(val_dataset, shuffle=False, batch_size=test_batch_size)"
   ]
  },
  {
   "cell_type": "code",
   "execution_count": 32,
   "metadata": {},
   "outputs": [],
   "source": [
    "class BertForMCSequenceClassification(BertPreTrainedModel):\n",
    "    r\"\"\"\n",
    "        **labels**: (`optional`) ``torch.LongTensor`` of shape ``(batch_size,)``:\n",
    "            Labels for computing the sequence classification/regression loss.\n",
    "            Indices should be in ``[0, ..., config.num_labels - 1]``.\n",
    "            If ``config.num_labels == 1`` a regression loss is computed (Mean-Square loss),\n",
    "            If ``config.num_labels > 1`` a classification loss is computed (Cross-Entropy).\n",
    "    Outputs: `Tuple` comprising various elements depending on the configuration (config) and inputs:\n",
    "        **loss**: (`optional`, returned when ``labels`` is provided) ``torch.FloatTensor`` of shape ``(1,)``:\n",
    "            Classification (or regression if config.num_labels==1) loss.\n",
    "        **logits**: ``torch.FloatTensor`` of shape ``(batch_size, config.num_labels)``\n",
    "            Classification (or regression if config.num_labels==1) scores (before SoftMax).\n",
    "        **hidden_states**: (`optional`, returned when ``config.output_hidden_states=True``)\n",
    "            list of ``torch.FloatTensor`` (one for the output of each layer + the output of the embeddings)\n",
    "            of shape ``(batch_size, sequence_length, hidden_size)``:\n",
    "            Hidden-states of the model at the output of each layer plus the initial embedding outputs.\n",
    "        **attentions**: (`optional`, returned when ``config.output_attentions=True``)\n",
    "            list of ``torch.FloatTensor`` (one for each layer) of shape ``(batch_size, num_heads, sequence_length, sequence_length)``:\n",
    "            Attentions weights after the attention softmax, used to compute the weighted average in the self-attention heads.\n",
    "    Examples::\n",
    "        tokenizer = BertTokenizer.from_pretrained('bert-base-uncased')\n",
    "        model = BertForSequenceClassification.from_pretrained('bert-base-uncased')\n",
    "        input_ids = torch.tensor(tokenizer.encode(\"Hello, my dog is cute\")).unsqueeze(0)  # Batch size 1\n",
    "        labels = torch.tensor([1]).unsqueeze(0)  # Batch size 1\n",
    "        outputs = model(input_ids, labels=labels)\n",
    "        loss, logits = outputs[:2]\n",
    "    \"\"\"\n",
    "    def __init__(self, config):\n",
    "        super(BertForMCSequenceClassification, self).__init__(config)\n",
    "        self.num_labels = config.num_labels\n",
    "\n",
    "        self.bert = BertModel(config)\n",
    "        self.dropout = nn.Dropout(config.hidden_dropout_prob)\n",
    "        self.classifier = nn.Linear(config.hidden_size, self.config.num_labels)\n",
    "\n",
    "        self.init_weights()\n",
    "\n",
    "    def forward(self, input_ids, attention_mask=None, token_type_ids=None,\n",
    "                position_ids=None, head_mask=None, labels=None):\n",
    "\n",
    "        outputs = self.bert(input_ids,\n",
    "                            attention_mask=attention_mask,\n",
    "                            token_type_ids=token_type_ids,\n",
    "                            position_ids=position_ids, \n",
    "                            head_mask=head_mask)\n",
    "\n",
    "        pooled_output = outputs[1]\n",
    "\n",
    "        pooled_output = self.dropout(pooled_output)\n",
    "        logits = self.classifier(pooled_output)\n",
    "\n",
    "        outputs = (logits,) + outputs[2:]  # add hidden states and attention if they are here\n",
    "\n",
    "        if labels is not None:\n",
    "            loss_fct = BCEWithLogitsLoss()\n",
    "#             loss = loss_fct(logits.view(-1, self.num_labels), labels.view(-1))\n",
    "            loss = loss_fct(logits, labels)\n",
    "            outputs = (loss,) + outputs\n",
    "\n",
    "        return outputs  # (loss), logits, (hidden_states), (attentions)"
   ]
  },
  {
   "cell_type": "code",
   "execution_count": 33,
   "metadata": {},
   "outputs": [],
   "source": [
    "# train_clean, mlb, junk_rows, junk_row_numbers = get_data('data/train.tsv', 4, HEADER_TRAIN)"
   ]
  },
  {
   "cell_type": "code",
   "execution_count": 34,
   "metadata": {},
   "outputs": [],
   "source": [
    "try:\n",
    "    mlb\n",
    "except NameError:\n",
    "    mlb = None   \n",
    "\n",
    "num_labels = len(mlb.classes_) if mlb else 100"
   ]
  },
  {
   "cell_type": "code",
   "execution_count": 35,
   "metadata": {},
   "outputs": [
    {
     "name": "stderr",
     "output_type": "stream",
     "text": [
      "I1027 04:47:49.262165 140718398465856 configuration_utils.py:146] loading configuration file /work/work/word_embeddings/for_torch/rubert_cased_L-12_H-768_A-12_v1/dump_path/config.json\n",
      "I1027 04:47:49.264919 140718398465856 configuration_utils.py:166] Model config {\n",
      "  \"attention_probs_dropout_prob\": 0.1,\n",
      "  \"directionality\": \"bidi\",\n",
      "  \"finetuning_task\": null,\n",
      "  \"hidden_act\": \"gelu\",\n",
      "  \"hidden_dropout_prob\": 0.1,\n",
      "  \"hidden_size\": 768,\n",
      "  \"initializer_range\": 0.02,\n",
      "  \"intermediate_size\": 3072,\n",
      "  \"layer_norm_eps\": 1e-12,\n",
      "  \"max_position_embeddings\": 512,\n",
      "  \"num_attention_heads\": 12,\n",
      "  \"num_hidden_layers\": 12,\n",
      "  \"num_labels\": 100,\n",
      "  \"output_attentions\": false,\n",
      "  \"output_hidden_states\": false,\n",
      "  \"pooler_fc_size\": 768,\n",
      "  \"pooler_num_attention_heads\": 12,\n",
      "  \"pooler_num_fc_layers\": 3,\n",
      "  \"pooler_size_per_head\": 128,\n",
      "  \"pooler_type\": \"first_token_transform\",\n",
      "  \"pruned_heads\": {},\n",
      "  \"torchscript\": false,\n",
      "  \"type_vocab_size\": 2,\n",
      "  \"vocab_size\": 119547\n",
      "}\n",
      "\n",
      "I1027 04:47:49.266626 140718398465856 modeling_utils.py:324] loading weights file /work/work/word_embeddings/for_torch/rubert_cased_L-12_H-768_A-12_v1/dump_path/pytorch_model.bin\n",
      "I1027 04:47:54.072281 140718398465856 modeling_utils.py:382] Weights of BertForMCSequenceClassification not initialized from pretrained model: ['classifier.weight', 'classifier.bias']\n",
      "I1027 04:47:54.073475 140718398465856 modeling_utils.py:385] Weights from pretrained model not used in BertForMCSequenceClassification: ['cls.predictions.bias', 'cls.predictions.transform.dense.weight', 'cls.predictions.transform.dense.bias', 'cls.predictions.transform.LayerNorm.weight', 'cls.predictions.transform.LayerNorm.bias', 'cls.predictions.decoder.weight', 'cls.seq_relationship.weight', 'cls.seq_relationship.bias']\n"
     ]
    }
   ],
   "source": [
    "model = BertForMCSequenceClassification.from_pretrained(pretrained_bert_dir,\n",
    "                                                      num_labels=num_labels,\n",
    "                                                      output_attentions=False)"
   ]
  },
  {
   "cell_type": "code",
   "execution_count": 36,
   "metadata": {},
   "outputs": [
    {
     "data": {
      "text/plain": [
       "<All keys matched successfully>"
      ]
     },
     "execution_count": 36,
     "metadata": {},
     "output_type": "execute_result"
    }
   ],
   "source": [
    "model.load_state_dict(torch.load(f'saved_models/{EXPERIMENT_NAME}/bert_classifier_model_state_dict_3_val_loss=0.04258026.pth'))"
   ]
  },
  {
   "cell_type": "code",
   "execution_count": 37,
   "metadata": {},
   "outputs": [],
   "source": [
    "model = model.to(device)\n",
    "\n",
    "if n_gpu > 1:\n",
    "    model = torch.nn.DataParallel(model)"
   ]
  },
  {
   "cell_type": "code",
   "execution_count": null,
   "metadata": {},
   "outputs": [],
   "source": []
  },
  {
   "cell_type": "code",
   "execution_count": 38,
   "metadata": {},
   "outputs": [],
   "source": [
    "def get_proba(dataloader):\n",
    "    sigmoid = torch.nn.Sigmoid()\n",
    "    result = []\n",
    "    with torch.no_grad():\n",
    "        for batch in tqdm(dataloader):\n",
    "            input_ids, token_type_ids, attention_mask = (t.to(device) for t in batch)\n",
    "            model_output = model(input_ids, token_type_ids=token_type_ids, attention_mask=attention_mask)\n",
    "            logits = model_output[0]\n",
    "            predicted_proba = sigmoid(logits)\n",
    "#             preds = torch.argmax(predicted_proba, 1)\n",
    "            result.append(predicted_proba.to('cpu').numpy())\n",
    "    return np.concatenate(result, axis=0)"
   ]
  },
  {
   "cell_type": "code",
   "execution_count": 39,
   "metadata": {},
   "outputs": [
    {
     "data": {
      "application/vnd.jupyter.widget-view+json": {
       "model_id": "d52d6aed5c564ba484add36ee34226eb",
       "version_major": 2,
       "version_minor": 0
      },
      "text/plain": [
       "HBox(children=(IntProgress(value=0, max=124), HTML(value='')))"
      ]
     },
     "metadata": {},
     "output_type": "display_data"
    },
    {
     "name": "stdout",
     "output_type": "stream",
     "text": [
      "\n"
     ]
    }
   ],
   "source": [
    "test_preds = get_proba(test_dataloader)"
   ]
  },
  {
   "cell_type": "code",
   "execution_count": 62,
   "metadata": {},
   "outputs": [
    {
     "data": {
      "application/vnd.jupyter.widget-view+json": {
       "model_id": "2cb2c0bd1341484684fc72052e3b5ddf",
       "version_major": 2,
       "version_minor": 0
      },
      "text/plain": [
       "HBox(children=(IntProgress(value=0, max=50), HTML(value='')))"
      ]
     },
     "metadata": {},
     "output_type": "display_data"
    },
    {
     "name": "stdout",
     "output_type": "stream",
     "text": [
      "\n"
     ]
    }
   ],
   "source": [
    "val_preds = get_proba(val_dataloader)"
   ]
  },
  {
   "cell_type": "code",
   "execution_count": 64,
   "metadata": {},
   "outputs": [],
   "source": [
    "# vault.test_preds_full_text = test_preds\n",
    "# vault.val_preds_full_text = val_preds"
   ]
  },
  {
   "cell_type": "code",
   "execution_count": 61,
   "metadata": {},
   "outputs": [],
   "source": [
    "test_preds = vault.test_preds_full_text\n",
    "# vault.val_preds_full_text = val_preds"
   ]
  },
  {
   "cell_type": "code",
   "execution_count": 129,
   "metadata": {},
   "outputs": [],
   "source": [
    "def get_taglist_upd(preds, mlb):\n",
    "    coef = .65\n",
    "    pred_tags = mlb.inverse_transform(preds.round())\n",
    "    empty_ix = [i for i in range(len(pred_tags)) if len(pred_tags[i]) == 0]\n",
    "    non_empty_ix = [i for i in range(len(pred_tags)) if len(pred_tags[i]) != 0]\n",
    "    maxs = pd.Series(preds.max(axis=1) * coef).iloc[empty_ix]\n",
    "    maxs_nemp = coef * .5\n",
    "    for ix in empty_ix:\n",
    "        pred_tags[ix] = (np.argmax(preds[ix]),)\n",
    "    pred_tags_str = [str(list(tag_list))[1:-1] for tag_list in pred_tags]\n",
    "    for i, iten in enumerate(empty_ix):\n",
    "        pred_tags_str[iten] = str(list(np.where(preds[iten] >= maxs.iloc[i])[0]))[1:-1].replace(' ', '')\n",
    "    for i, iten in enumerate(non_empty_ix):\n",
    "        pred_tags_str[iten] = str(list(np.where(preds[iten] >= maxs_nemp)[0]))[1:-1].replace(' ', '')\n",
    "    return pred_tags_str, pred_tags"
   ]
  },
  {
   "cell_type": "code",
   "execution_count": 130,
   "metadata": {},
   "outputs": [],
   "source": [
    "test_str, test = get_taglist_upd(test_preds, mlb)"
   ]
  },
  {
   "cell_type": "code",
   "execution_count": 131,
   "metadata": {},
   "outputs": [],
   "source": [
    "submission = pd.DataFrame({'ix': test_clean['id'], 'pred': test_str})"
   ]
  },
  {
   "cell_type": "code",
   "execution_count": 132,
   "metadata": {},
   "outputs": [
    {
     "data": {
      "text/html": [
       "<div>\n",
       "<style scoped>\n",
       "    .dataframe tbody tr th:only-of-type {\n",
       "        vertical-align: middle;\n",
       "    }\n",
       "\n",
       "    .dataframe tbody tr th {\n",
       "        vertical-align: top;\n",
       "    }\n",
       "\n",
       "    .dataframe thead th {\n",
       "        text-align: right;\n",
       "    }\n",
       "</style>\n",
       "<table border=\"1\" class=\"dataframe\">\n",
       "  <thead>\n",
       "    <tr style=\"text-align: right;\">\n",
       "      <th></th>\n",
       "      <th>ix</th>\n",
       "      <th>pred</th>\n",
       "    </tr>\n",
       "  </thead>\n",
       "  <tbody>\n",
       "    <tr>\n",
       "      <th>21386</th>\n",
       "      <td>147434</td>\n",
       "      <td>57,77</td>\n",
       "    </tr>\n",
       "    <tr>\n",
       "      <th>13051</th>\n",
       "      <td>139099</td>\n",
       "      <td>2,29</td>\n",
       "    </tr>\n",
       "    <tr>\n",
       "      <th>29014</th>\n",
       "      <td>155062</td>\n",
       "      <td>0,4</td>\n",
       "    </tr>\n",
       "    <tr>\n",
       "      <th>2896</th>\n",
       "      <td>128944</td>\n",
       "      <td>11,15,41,65</td>\n",
       "    </tr>\n",
       "    <tr>\n",
       "      <th>21275</th>\n",
       "      <td>147323</td>\n",
       "      <td>14,81</td>\n",
       "    </tr>\n",
       "    <tr>\n",
       "      <th>16335</th>\n",
       "      <td>142383</td>\n",
       "      <td>9,71</td>\n",
       "    </tr>\n",
       "    <tr>\n",
       "      <th>15026</th>\n",
       "      <td>141074</td>\n",
       "      <td>48</td>\n",
       "    </tr>\n",
       "    <tr>\n",
       "      <th>29678</th>\n",
       "      <td>155726</td>\n",
       "      <td>18,53,69</td>\n",
       "    </tr>\n",
       "    <tr>\n",
       "      <th>17739</th>\n",
       "      <td>143787</td>\n",
       "      <td>12,21,30</td>\n",
       "    </tr>\n",
       "    <tr>\n",
       "      <th>31102</th>\n",
       "      <td>157150</td>\n",
       "      <td>8,14</td>\n",
       "    </tr>\n",
       "  </tbody>\n",
       "</table>\n",
       "</div>"
      ],
      "text/plain": [
       "           ix         pred\n",
       "21386  147434        57,77\n",
       "13051  139099         2,29\n",
       "29014  155062          0,4\n",
       "2896   128944  11,15,41,65\n",
       "21275  147323        14,81\n",
       "16335  142383         9,71\n",
       "15026  141074           48\n",
       "29678  155726     18,53,69\n",
       "17739  143787     12,21,30\n",
       "31102  157150         8,14"
      ]
     },
     "execution_count": 132,
     "metadata": {},
     "output_type": "execute_result"
    }
   ],
   "source": [
    "submission.sample(10)"
   ]
  },
  {
   "cell_type": "code",
   "execution_count": 128,
   "metadata": {},
   "outputs": [],
   "source": [
    "submission.to_csv('data/submission.tsv', sep='\\t', header=False, index=False)"
   ]
  },
  {
   "cell_type": "code",
   "execution_count": null,
   "metadata": {},
   "outputs": [],
   "source": []
  },
  {
   "cell_type": "code",
   "execution_count": null,
   "metadata": {},
   "outputs": [],
   "source": []
  },
  {
   "cell_type": "code",
   "execution_count": null,
   "metadata": {},
   "outputs": [],
   "source": []
  },
  {
   "cell_type": "code",
   "execution_count": null,
   "metadata": {},
   "outputs": [],
   "source": []
  },
  {
   "cell_type": "code",
   "execution_count": 27,
   "metadata": {},
   "outputs": [
    {
     "data": {
      "text/html": [
       "<div>\n",
       "<style scoped>\n",
       "    .dataframe tbody tr th:only-of-type {\n",
       "        vertical-align: middle;\n",
       "    }\n",
       "\n",
       "    .dataframe tbody tr th {\n",
       "        vertical-align: top;\n",
       "    }\n",
       "\n",
       "    .dataframe thead th {\n",
       "        text-align: right;\n",
       "    }\n",
       "</style>\n",
       "<table border=\"1\" class=\"dataframe\">\n",
       "  <thead>\n",
       "    <tr style=\"text-align: right;\">\n",
       "      <th></th>\n",
       "      <th>concatted_text</th>\n",
       "      <th>tags_nat</th>\n",
       "      <th>pred_tags_nat</th>\n",
       "    </tr>\n",
       "  </thead>\n",
       "  <tbody>\n",
       "    <tr>\n",
       "      <th>112929</th>\n",
       "      <td>Грабителей подвела чистоплотность. Они не усто...</td>\n",
       "      <td>[24, 27, 30]</td>\n",
       "      <td>(29,)</td>\n",
       "    </tr>\n",
       "    <tr>\n",
       "      <th>63490</th>\n",
       "      <td>Каждому человеку просто необходимо быть поближ...</td>\n",
       "      <td>[11, 47, 84]</td>\n",
       "      <td>(84,)</td>\n",
       "    </tr>\n",
       "    <tr>\n",
       "      <th>55405</th>\n",
       "      <td>Гипертония: симптомы, степени, лечение и профи...</td>\n",
       "      <td>[5, 43]</td>\n",
       "      <td>(5, 43)</td>\n",
       "    </tr>\n",
       "    <tr>\n",
       "      <th>858</th>\n",
       "      <td>Mauser M2: удобный и надежный. Пистолет Mauser...</td>\n",
       "      <td>[76]</td>\n",
       "      <td>(76,)</td>\n",
       "    </tr>\n",
       "    <tr>\n",
       "      <th>84139</th>\n",
       "      <td>🍴 Кухонный фартук из ламината: идеи, технологи...</td>\n",
       "      <td>[44, 45]</td>\n",
       "      <td>(44, 45, 86)</td>\n",
       "    </tr>\n",
       "    <tr>\n",
       "      <th>97256</th>\n",
       "      <td>Как завоевать женщину: секреты Антона Павлович...</td>\n",
       "      <td>[2, 10]</td>\n",
       "      <td>(1,)</td>\n",
       "    </tr>\n",
       "    <tr>\n",
       "      <th>84267</th>\n",
       "      <td>Интерьер квартиры в ЖК Европейский 80 м^2. Дан...</td>\n",
       "      <td>[19, 20]</td>\n",
       "      <td>(44,)</td>\n",
       "    </tr>\n",
       "    <tr>\n",
       "      <th>111770</th>\n",
       "      <td>\"Договориться на берегу\". Я думаю, что самая б...</td>\n",
       "      <td>[60]</td>\n",
       "      <td>(60, 72)</td>\n",
       "    </tr>\n",
       "    <tr>\n",
       "      <th>95850</th>\n",
       "      <td>Ржака на ночь глядя: прикольный комикс про сит...</td>\n",
       "      <td>[15, 21]</td>\n",
       "      <td>(21,)</td>\n",
       "    </tr>\n",
       "    <tr>\n",
       "      <th>111704</th>\n",
       "      <td>Reebok #нивкакиерамки. 7 февраля  отделение бр...</td>\n",
       "      <td>[6]</td>\n",
       "      <td>(20,)</td>\n",
       "    </tr>\n",
       "    <tr>\n",
       "      <th>36848</th>\n",
       "      <td>ТОП 5 автомобилей до 150тыс. рублей,          ...</td>\n",
       "      <td>[12, 24]</td>\n",
       "      <td>(12,)</td>\n",
       "    </tr>\n",
       "    <tr>\n",
       "      <th>23451</th>\n",
       "      <td>Поговори со мной. Поговори со мной, поговори, ...</td>\n",
       "      <td>[17, 34, 93]</td>\n",
       "      <td>(93,)</td>\n",
       "    </tr>\n",
       "    <tr>\n",
       "      <th>112350</th>\n",
       "      <td>Что будет с ценой на нефть в ближайшее время?....</td>\n",
       "      <td>[3]</td>\n",
       "      <td>(63,)</td>\n",
       "    </tr>\n",
       "    <tr>\n",
       "      <th>121801</th>\n",
       "      <td>Что доктор Фрейд говорил о сексе? 3 идеи извес...</td>\n",
       "      <td>[11, 47]</td>\n",
       "      <td>(11, 73)</td>\n",
       "    </tr>\n",
       "    <tr>\n",
       "      <th>77956</th>\n",
       "      <td>США поставили жёсткий дедлайн Китаю. Торговый ...</td>\n",
       "      <td>[3, 29, 40, 49, 63, 79]</td>\n",
       "      <td>(3, 29, 79)</td>\n",
       "    </tr>\n",
       "    <tr>\n",
       "      <th>35279</th>\n",
       "      <td>Чупакабрас. Полигон для биологических опытов?....</td>\n",
       "      <td>[23, 27, 85]</td>\n",
       "      <td>(39,)</td>\n",
       "    </tr>\n",
       "    <tr>\n",
       "      <th>71075</th>\n",
       "      <td>«Не спится?»: Простой трюк, который поможет за...</td>\n",
       "      <td>[5]</td>\n",
       "      <td>(5,)</td>\n",
       "    </tr>\n",
       "    <tr>\n",
       "      <th>18168</th>\n",
       "      <td>Сборная России по футболу отправилась на сборы...</td>\n",
       "      <td>[7, 22]</td>\n",
       "      <td>(7, 22)</td>\n",
       "    </tr>\n",
       "    <tr>\n",
       "      <th>20916</th>\n",
       "      <td>Майнит - не майнит.. Как мы знаем, чтобы иметь...</td>\n",
       "      <td>[26, 33, 40]</td>\n",
       "      <td>(33,)</td>\n",
       "    </tr>\n",
       "    <tr>\n",
       "      <th>60033</th>\n",
       "      <td>В Белом доме отказались комментировать слова Т...</td>\n",
       "      <td>[3, 7, 29, 78]</td>\n",
       "      <td>(3, 78)</td>\n",
       "    </tr>\n",
       "  </tbody>\n",
       "</table>\n",
       "</div>"
      ],
      "text/plain": [
       "                                           concatted_text  \\\n",
       "112929  Грабителей подвела чистоплотность. Они не усто...   \n",
       "63490   Каждому человеку просто необходимо быть поближ...   \n",
       "55405   Гипертония: симптомы, степени, лечение и профи...   \n",
       "858     Mauser M2: удобный и надежный. Пистолет Mauser...   \n",
       "84139   🍴 Кухонный фартук из ламината: идеи, технологи...   \n",
       "97256   Как завоевать женщину: секреты Антона Павлович...   \n",
       "84267   Интерьер квартиры в ЖК Европейский 80 м^2. Дан...   \n",
       "111770  \"Договориться на берегу\". Я думаю, что самая б...   \n",
       "95850   Ржака на ночь глядя: прикольный комикс про сит...   \n",
       "111704  Reebok #нивкакиерамки. 7 февраля  отделение бр...   \n",
       "36848   ТОП 5 автомобилей до 150тыс. рублей,          ...   \n",
       "23451   Поговори со мной. Поговори со мной, поговори, ...   \n",
       "112350  Что будет с ценой на нефть в ближайшее время?....   \n",
       "121801  Что доктор Фрейд говорил о сексе? 3 идеи извес...   \n",
       "77956   США поставили жёсткий дедлайн Китаю. Торговый ...   \n",
       "35279   Чупакабрас. Полигон для биологических опытов?....   \n",
       "71075   «Не спится?»: Простой трюк, который поможет за...   \n",
       "18168   Сборная России по футболу отправилась на сборы...   \n",
       "20916   Майнит - не майнит.. Как мы знаем, чтобы иметь...   \n",
       "60033   В Белом доме отказались комментировать слова Т...   \n",
       "\n",
       "                       tags_nat pred_tags_nat  \n",
       "112929             [24, 27, 30]         (29,)  \n",
       "63490              [11, 47, 84]         (84,)  \n",
       "55405                   [5, 43]       (5, 43)  \n",
       "858                        [76]         (76,)  \n",
       "84139                  [44, 45]  (44, 45, 86)  \n",
       "97256                   [2, 10]          (1,)  \n",
       "84267                  [19, 20]         (44,)  \n",
       "111770                     [60]      (60, 72)  \n",
       "95850                  [15, 21]         (21,)  \n",
       "111704                      [6]         (20,)  \n",
       "36848                  [12, 24]         (12,)  \n",
       "23451              [17, 34, 93]         (93,)  \n",
       "112350                      [3]         (63,)  \n",
       "121801                 [11, 47]      (11, 73)  \n",
       "77956   [3, 29, 40, 49, 63, 79]   (3, 29, 79)  \n",
       "35279              [23, 27, 85]         (39,)  \n",
       "71075                       [5]          (5,)  \n",
       "18168                   [7, 22]       (7, 22)  \n",
       "20916              [26, 33, 40]         (33,)  \n",
       "60033            [3, 7, 29, 78]       (3, 78)  "
      ]
     },
     "execution_count": 27,
     "metadata": {},
     "output_type": "execute_result"
    }
   ],
   "source": [
    "val[['concatted_text', 'tags_nat', 'pred_tags_nat']].sample(20)"
   ]
  },
  {
   "cell_type": "code",
   "execution_count": 16,
   "metadata": {},
   "outputs": [],
   "source": [
    "test = np.round(val_preds)"
   ]
  },
  {
   "cell_type": "code",
   "execution_count": 25,
   "metadata": {},
   "outputs": [
    {
     "data": {
      "text/plain": [
       "1.0    7236\n",
       "2.0    3309\n",
       "0.0    1502\n",
       "3.0     476\n",
       "4.0      64\n",
       "5.0       7\n",
       "dtype: int64"
      ]
     },
     "execution_count": 25,
     "metadata": {},
     "output_type": "execute_result"
    }
   ],
   "source": [
    "pd.Series(test.sum(axis=1)).value_counts()"
   ]
  },
  {
   "cell_type": "code",
   "execution_count": 24,
   "metadata": {},
   "outputs": [
    {
     "data": {
      "image/png": "[encoded data removed]",
      "text/plain": [
       "<Figure size 432x288 with 1 Axes>"
      ]
     },
     "metadata": {
      "needs_background": "light"
     },
     "output_type": "display_data"
    }
   ],
   "source": [
    "pd.Series(test.sum(axis=1)).hist(bins=13);"
   ]
  },
  {
   "cell_type": "code",
   "execution_count": 247,
   "metadata": {},
   "outputs": [
    {
     "data": {
      "image/png": "[encoded data removed]",
      "text/plain": [
       "<Figure size 432x288 with 1 Axes>"
      ]
     },
     "metadata": {
      "needs_background": "light"
     },
     "output_type": "display_data"
    }
   ],
   "source": [
    "test.hist(bins=13);"
   ]
  },
  {
   "cell_type": "code",
   "execution_count": null,
   "metadata": {},
   "outputs": [],
   "source": []
  }
 ],
 "metadata": {
  "kernelspec": {
   "display_name": "Python 3",
   "language": "python",
   "name": "python3"
  },
  "language_info": {
   "codemirror_mode": {
    "name": "ipython",
    "version": 3
   },
   "file_extension": ".py",
   "mimetype": "text/x-python",
   "name": "python",
   "nbconvert_exporter": "python",
   "pygments_lexer": "ipython3",
   "version": "3.7.3"
  }
 },
 "nbformat": 4,
 "nbformat_minor": 4
}
